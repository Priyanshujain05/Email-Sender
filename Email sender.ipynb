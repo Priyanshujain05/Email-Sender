{
 "cells": [
  {
   "cell_type": "code",
   "execution_count": 2,
   "metadata": {},
   "outputs": [
    {
     "name": "stdout",
     "output_type": "stream",
     "text": [
      "Requirement already satisfied: emails in c:\\users\\this pc\\appdata\\local\\programs\\python\\python38-32\\lib\\site-packages (0.6)\n",
      "Requirement already satisfied: python-dateutil in c:\\users\\this pc\\appdata\\local\\programs\\python\\python38-32\\lib\\site-packages (from emails) (2.8.1)\n",
      "Requirement already satisfied: cssutils in c:\\users\\this pc\\appdata\\local\\programs\\python\\python38-32\\lib\\site-packages (from emails) (1.0.2)\n",
      "Requirement already satisfied: premailer in c:\\users\\this pc\\appdata\\local\\programs\\python\\python38-32\\lib\\site-packages (from emails) (3.7.0)\n",
      "Requirement already satisfied: requests in c:\\users\\this pc\\appdata\\local\\programs\\python\\python38-32\\lib\\site-packages (from emails) (2.25.0)\n",
      "Requirement already satisfied: chardet in c:\\users\\this pc\\appdata\\local\\programs\\python\\python38-32\\lib\\site-packages (from emails) (3.0.4)\n",
      "Requirement already satisfied: lxml in c:\\users\\this pc\\appdata\\local\\programs\\python\\python38-32\\lib\\site-packages (from emails) (4.6.2)\n",
      "Requirement already satisfied: cssselect in c:\\users\\this pc\\appdata\\local\\programs\\python\\python38-32\\lib\\site-packages (from premailer->emails) (1.1.0)\n",
      "Requirement already satisfied: cachetools in c:\\users\\this pc\\appdata\\local\\programs\\python\\python38-32\\lib\\site-packages (from premailer->emails) (4.2.0)\n",
      "Requirement already satisfied: six>=1.5 in c:\\users\\this pc\\appdata\\local\\programs\\python\\python38-32\\lib\\site-packages (from python-dateutil->emails) (1.14.0)\n",
      "Requirement already satisfied: urllib3<1.27,>=1.21.1 in c:\\users\\this pc\\appdata\\local\\programs\\python\\python38-32\\lib\\site-packages (from requests->emails) (1.26.2)\n",
      "Requirement already satisfied: certifi>=2017.4.17 in c:\\users\\this pc\\appdata\\local\\programs\\python\\python38-32\\lib\\site-packages (from requests->emails) (2020.12.5)\n",
      "Requirement already satisfied: idna<3,>=2.5 in c:\\users\\this pc\\appdata\\local\\programs\\python\\python38-32\\lib\\site-packages (from requests->emails) (2.10)\n"
     ]
    }
   ],
   "source": [
    " !pip install emails"
   ]
  },
  {
   "cell_type": "code",
   "execution_count": 46,
   "metadata": {},
   "outputs": [],
   "source": [
    "import emails \n",
    "message = emails.html(html=\"\"\"<p>Hey! <span style=\"color: rgb(44, 130, 201);\"><em><strong>Priyanshu</strong></em></span> 🐨how are you?&nbsp;</p>\n",
    "<p>This mail is for testing the email_via_python ptoject.</p>\n",
    "<p>hope it works :)</p>\"\"\",subject=\"Your E-mail from python script\",mail_from=('Priyanshu Jain', 'store@somestore.compriyanshu@xyz.com'))"
   ]
  },
  {
   "cell_type": "code",
   "execution_count": 47,
   "metadata": {},
   "outputs": [],
   "source": [
    "mail_via_python = message.send(to='wewomah246@febeks.c.com', \n",
    "                               smtp={'host': 'smtp.gmail.com', \n",
    "                                      'timeout': 5,\n",
    "                                     'port': 587,\n",
    "                                     'user' :'Carnagerabbit0@gmail.com',\n",
    "                                     'password':'1234567898Az'  ,\n",
    "                                     'tls': True})"
   ]
  },
  {
   "cell_type": "code",
   "execution_count": 48,
   "metadata": {},
   "outputs": [
    {
     "data": {
      "text/plain": [
       "250"
      ]
     },
     "execution_count": 48,
     "metadata": {},
     "output_type": "execute_result"
    }
   ],
   "source": [
    "mail_via_python.status_code"
   ]
  },
  {
   "cell_type": "code",
   "execution_count": null,
   "metadata": {},
   "outputs": [],
   "source": []
  }
 ],
 "metadata": {
  "kernelspec": {
   "display_name": "Python 3",
   "language": "python",
   "name": "python3"
  },
  "language_info": {
   "codemirror_mode": {
    "name": "ipython",
    "version": 3
   },
   "file_extension": ".py",
   "mimetype": "text/x-python",
   "name": "python",
   "nbconvert_exporter": "python",
   "pygments_lexer": "ipython3",
   "version": "3.8.0"
  }
 },
 "nbformat": 4,
 "nbformat_minor": 4
}
